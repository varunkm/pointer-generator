{
 "cells": [
  {
   "cell_type": "code",
   "execution_count": 1,
   "metadata": {},
   "outputs": [],
   "source": [
    "import torchtext\n",
    "import pandas as pd"
   ]
  },
  {
   "cell_type": "code",
   "execution_count": 2,
   "metadata": {},
   "outputs": [],
   "source": [
    "dataset = pd.read_csv('../wh_data/wikihowAll.csv')"
   ]
  },
  {
   "cell_type": "code",
   "execution_count": 3,
   "metadata": {},
   "outputs": [],
   "source": [
    "def pre_process_frame(frame):\n",
    "    frame['headline'] = frame['headline'].str.replace('\\n', '')\n",
    "    frame['headline'] = frame['headline'].str.replace('.', ' . ')\n",
    "    frame['headline'] = frame['headline'].str.replace(',', ' , ')\n",
    "    frame['headline'] = frame['headline'].str.replace('?', ' ? ')\n",
    "    frame['headline'] = frame['headline'].str.replace('!', ' ! ')\n",
    "    frame['headline'] = frame['headline'].str.replace(chr(160), '')\n",
    "    frame['headline'] = frame['headline'].str.lower()\n",
    "\n",
    "    frame['text'] = frame['text'].str.replace('\\n', '')\n",
    "    frame['text'] = frame['text'].str.replace('.', ' . ')\n",
    "    frame['text'] = frame['text'].str.replace(',', ' , ')\n",
    "    frame['text'] = frame['text'].str.replace('?', ' ? ')\n",
    "    frame['text'] = frame['text'].str.replace('!', ' ! ')\n",
    "    frame['text'] = frame['text'].str.replace(chr(160), '')\n",
    "    frame['text'] = frame['text'].str.lower()\n",
    "    return frame"
   ]
  },
  {
   "cell_type": "code",
   "execution_count": 4,
   "metadata": {},
   "outputs": [],
   "source": [
    "dataset = pre_process_frame(dataset)"
   ]
  },
  {
   "cell_type": "code",
   "execution_count": 5,
   "metadata": {},
   "outputs": [],
   "source": [
    "big_dic = {}"
   ]
  },
  {
   "cell_type": "code",
   "execution_count": 6,
   "metadata": {},
   "outputs": [],
   "source": [
    "def proc_tokens(tokens):\n",
    "    for tok in tokens:\n",
    "        big_dic[tok] = big_dic.get(tok, 0) + 1\n",
    "\n",
    "def proc_row(data):\n",
    "    tokens = str(data).split(\" \")\n",
    "    proc_tokens(tokens)\n"
   ]
  },
  {
   "cell_type": "code",
   "execution_count": 7,
   "metadata": {},
   "outputs": [],
   "source": [
    "headlines = dataset['headline']"
   ]
  },
  {
   "cell_type": "code",
   "execution_count": 8,
   "metadata": {},
   "outputs": [
    {
     "data": {
      "text/plain": [
       "0    keep related supplies in the same area .  , ma...\n",
       "1    create a sketch in the neopoprealist manner of...\n",
       "2    get a bachelor’s degree .  , enroll in a studi...\n",
       "3    start with some experience or interest in art ...\n",
       "4    keep your reference materials ,  sketches ,  a...\n",
       "Name: headline, dtype: object"
      ]
     },
     "execution_count": 8,
     "metadata": {},
     "output_type": "execute_result"
    }
   ],
   "source": [
    "headlines.head()"
   ]
  },
  {
   "cell_type": "code",
   "execution_count": 9,
   "metadata": {},
   "outputs": [
    {
     "data": {
      "text/plain": [
       "0         None\n",
       "1         None\n",
       "2         None\n",
       "3         None\n",
       "4         None\n",
       "5         None\n",
       "6         None\n",
       "7         None\n",
       "8         None\n",
       "9         None\n",
       "10        None\n",
       "11        None\n",
       "12        None\n",
       "13        None\n",
       "14        None\n",
       "15        None\n",
       "16        None\n",
       "17        None\n",
       "18        None\n",
       "19        None\n",
       "20        None\n",
       "21        None\n",
       "22        None\n",
       "23        None\n",
       "24        None\n",
       "25        None\n",
       "26        None\n",
       "27        None\n",
       "28        None\n",
       "29        None\n",
       "          ... \n",
       "215335    None\n",
       "215336    None\n",
       "215337    None\n",
       "215338    None\n",
       "215339    None\n",
       "215340    None\n",
       "215341    None\n",
       "215342    None\n",
       "215343    None\n",
       "215344    None\n",
       "215345    None\n",
       "215346    None\n",
       "215347    None\n",
       "215348    None\n",
       "215349    None\n",
       "215350    None\n",
       "215351    None\n",
       "215352    None\n",
       "215353    None\n",
       "215354    None\n",
       "215355    None\n",
       "215356    None\n",
       "215357    None\n",
       "215358    None\n",
       "215359    None\n",
       "215360    None\n",
       "215361    None\n",
       "215362    None\n",
       "215363    None\n",
       "215364    None\n",
       "Name: headline, Length: 215365, dtype: object"
      ]
     },
     "execution_count": 9,
     "metadata": {},
     "output_type": "execute_result"
    }
   ],
   "source": [
    "headlines.apply(proc_row)"
   ]
  },
  {
   "cell_type": "code",
   "execution_count": 10,
   "metadata": {},
   "outputs": [
    {
     "data": {
      "text/plain": [
       "197064"
      ]
     },
     "execution_count": 10,
     "metadata": {},
     "output_type": "execute_result"
    }
   ],
   "source": [
    "len(big_dic)"
   ]
  },
  {
   "cell_type": "code",
   "execution_count": 11,
   "metadata": {},
   "outputs": [
    {
     "data": {
      "text/plain": [
       "0     if you're a photographer ,  keep all the nece...\n",
       "1     see the image for how this drawing develops s...\n",
       "2     it is possible to become a vfx artist without...\n",
       "3     the best art investors do their research on t...\n",
       "4     as you start planning for a project or work ,...\n",
       "Name: text, dtype: object"
      ]
     },
     "execution_count": 11,
     "metadata": {},
     "output_type": "execute_result"
    }
   ],
   "source": [
    "text = dataset['text']\n",
    "text.head()"
   ]
  },
  {
   "cell_type": "code",
   "execution_count": 12,
   "metadata": {},
   "outputs": [
    {
     "data": {
      "text/plain": [
       "0         None\n",
       "1         None\n",
       "2         None\n",
       "3         None\n",
       "4         None\n",
       "5         None\n",
       "6         None\n",
       "7         None\n",
       "8         None\n",
       "9         None\n",
       "10        None\n",
       "11        None\n",
       "12        None\n",
       "13        None\n",
       "14        None\n",
       "15        None\n",
       "16        None\n",
       "17        None\n",
       "18        None\n",
       "19        None\n",
       "20        None\n",
       "21        None\n",
       "22        None\n",
       "23        None\n",
       "24        None\n",
       "25        None\n",
       "26        None\n",
       "27        None\n",
       "28        None\n",
       "29        None\n",
       "          ... \n",
       "215335    None\n",
       "215336    None\n",
       "215337    None\n",
       "215338    None\n",
       "215339    None\n",
       "215340    None\n",
       "215341    None\n",
       "215342    None\n",
       "215343    None\n",
       "215344    None\n",
       "215345    None\n",
       "215346    None\n",
       "215347    None\n",
       "215348    None\n",
       "215349    None\n",
       "215350    None\n",
       "215351    None\n",
       "215352    None\n",
       "215353    None\n",
       "215354    None\n",
       "215355    None\n",
       "215356    None\n",
       "215357    None\n",
       "215358    None\n",
       "215359    None\n",
       "215360    None\n",
       "215361    None\n",
       "215362    None\n",
       "215363    None\n",
       "215364    None\n",
       "Name: text, Length: 215365, dtype: object"
      ]
     },
     "execution_count": 12,
     "metadata": {},
     "output_type": "execute_result"
    }
   ],
   "source": [
    "text.apply(proc_row)"
   ]
  },
  {
   "cell_type": "code",
   "execution_count": 13,
   "metadata": {},
   "outputs": [
    {
     "data": {
      "text/plain": [
       "795844"
      ]
     },
     "execution_count": 13,
     "metadata": {},
     "output_type": "execute_result"
    }
   ],
   "source": [
    "len(big_dic)"
   ]
  },
  {
   "cell_type": "code",
   "execution_count": 14,
   "metadata": {},
   "outputs": [],
   "source": [
    "big_dic[' '] = 0"
   ]
  },
  {
   "cell_type": "code",
   "execution_count": 15,
   "metadata": {},
   "outputs": [],
   "source": [
    "items = big_dic.items()\n",
    "items = sorted(items, key=lambda x: -1 * x[1])"
   ]
  },
  {
   "cell_type": "code",
   "execution_count": 16,
   "metadata": {},
   "outputs": [
    {
     "data": {
      "text/plain": [
       "('', 11949081)"
      ]
     },
     "execution_count": 16,
     "metadata": {},
     "output_type": "execute_result"
    }
   ],
   "source": [
    "items[0]"
   ]
  },
  {
   "cell_type": "code",
   "execution_count": 17,
   "metadata": {},
   "outputs": [],
   "source": [
    "with open('../wh_data/wh_vocab005.txt', 'w') as f:\n",
    "    for word, freq in items:\n",
    "        f.write(word + ' ' + str(freq) + '\\n')\n"
   ]
  },
  {
   "cell_type": "code",
   "execution_count": 19,
   "metadata": {},
   "outputs": [
    {
     "data": {
      "text/plain": [
       "977489"
      ]
     },
     "execution_count": 19,
     "metadata": {},
     "output_type": "execute_result"
    }
   ],
   "source": [
    "big_dic['if']"
   ]
  },
  {
   "cell_type": "code",
   "execution_count": null,
   "metadata": {},
   "outputs": [],
   "source": [
    "' ' == ' '"
   ]
  },
  {
   "cell_type": "code",
   "execution_count": null,
   "metadata": {},
   "outputs": [],
   "source": [
    "ord(' ')"
   ]
  },
  {
   "cell_type": "code",
   "execution_count": null,
   "metadata": {},
   "outputs": [],
   "source": [
    "ord(' ')"
   ]
  },
  {
   "cell_type": "code",
   "execution_count": null,
   "metadata": {},
   "outputs": [],
   "source": [
    "chr(160)"
   ]
  },
  {
   "cell_type": "code",
   "execution_count": null,
   "metadata": {},
   "outputs": [],
   "source": []
  }
 ],
 "metadata": {
  "kernelspec": {
   "display_name": "Python 3",
   "language": "python",
   "name": "python3"
  },
  "language_info": {
   "codemirror_mode": {
    "name": "ipython",
    "version": 3
   },
   "file_extension": ".py",
   "mimetype": "text/x-python",
   "name": "python",
   "nbconvert_exporter": "python",
   "pygments_lexer": "ipython3",
   "version": "3.6.4"
  }
 },
 "nbformat": 4,
 "nbformat_minor": 2
}
